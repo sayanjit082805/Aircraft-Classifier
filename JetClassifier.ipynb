{
 "cells": [
  {
   "cell_type": "markdown",
   "id": "3fc2116f",
   "metadata": {},
   "source": [
    "#### Importing required Libraries\n"
   ]
  },
  {
   "cell_type": "code",
   "execution_count": 7,
   "id": "2653cf91",
   "metadata": {},
   "outputs": [],
   "source": [
    "import pandas as pd \n",
    "import seaborn as sns\n",
    "import matplotlib.pyplot as plt"
   ]
  },
  {
   "cell_type": "code",
   "execution_count": 8,
   "id": "c072bec8",
   "metadata": {},
   "outputs": [
    {
     "name": "stdout",
     "output_type": "stream",
     "text": [
      "          Aircraft Name      Manufacturer Country  Weight (kg)  Speed (km/h)  \\\n",
      "0  F-16 Fighting Falcon             United States      12000.0        2124.0   \n",
      "1         Su-27 Flanker                    Russia      30000.0        2500.0   \n",
      "2   B-52 Stratofortress             United States     220000.0        1000.0   \n",
      "3   Eurofighter Typhoon  Multi-national (Germany)      11000.0        2495.0   \n",
      "4         F/A-18 Hornet             United States      14500.0        1800.0   \n",
      "\n",
      "   Operational Range (km)                         Payload Payload2     Type  \n",
      "0                  4200.0                         AIM-120    AIM-9  Fighter  \n",
      "1                  3530.0                            R-73     R-77  Fighter  \n",
      "2                 14000.0  Nuclear and conventional bombs      NaN   Bomber  \n",
      "3                  2900.0                          Meteor   IRIS-T  Fighter  \n",
      "4                  3330.0                           AIM-7  AIM-120  Fighter  \n"
     ]
    }
   ],
   "source": [
    "# Load the dataset \n",
    "aircraft_types = pd.read_csv('aircraft_types.csv')\n",
    "print(aircraft_types.head())"
   ]
  },
  {
   "cell_type": "code",
   "execution_count": 9,
   "id": "87b1b8a6",
   "metadata": {},
   "outputs": [
    {
     "name": "stdout",
     "output_type": "stream",
     "text": [
      "Aircraft Name              0\n",
      "Manufacturer Country       1\n",
      "Weight (kg)                0\n",
      "Speed (km/h)               0\n",
      "Operational Range (km)     0\n",
      "Payload                    0\n",
      "Payload2                  11\n",
      "Type                       0\n",
      "dtype: int64\n"
     ]
    }
   ],
   "source": [
    "# Checking for missing values \n",
    "print(aircraft_types.isnull().sum())\n",
    "\n",
    "# Filling in 'Unknown' for missing string values\n",
    "aircraft_types.fillna({'Manufacturer Country': 'Unknown'}, inplace=True)\n",
    "aircraft_types.fillna({'Payload2' : 'Unknown'}, inplace=True)\n",
    "\n",
    "# Dropping unnecessary columns\n",
    "aircraft_types.drop(columns=['Aircraft Name', 'Manufacturer Country', 'Payload', 'Payload2'], inplace=True)\n"
   ]
  },
  {
   "cell_type": "code",
   "execution_count": 10,
   "id": "378ff3ba",
   "metadata": {},
   "outputs": [
    {
     "data": {
      "text/plain": [
       "(40, 4)"
      ]
     },
     "execution_count": 10,
     "metadata": {},
     "output_type": "execute_result"
    }
   ],
   "source": [
    "aircraft_types.shape"
   ]
  },
  {
   "cell_type": "code",
   "execution_count": 11,
   "id": "8b89ed75",
   "metadata": {},
   "outputs": [
    {
     "data": {
      "text/html": [
       "<div>\n",
       "<style scoped>\n",
       "    .dataframe tbody tr th:only-of-type {\n",
       "        vertical-align: middle;\n",
       "    }\n",
       "\n",
       "    .dataframe tbody tr th {\n",
       "        vertical-align: top;\n",
       "    }\n",
       "\n",
       "    .dataframe thead th {\n",
       "        text-align: right;\n",
       "    }\n",
       "</style>\n",
       "<table border=\"1\" class=\"dataframe\">\n",
       "  <thead>\n",
       "    <tr style=\"text-align: right;\">\n",
       "      <th></th>\n",
       "      <th>Weight (kg)</th>\n",
       "      <th>Speed (km/h)</th>\n",
       "      <th>Operational Range (km)</th>\n",
       "      <th>Type</th>\n",
       "    </tr>\n",
       "  </thead>\n",
       "  <tbody>\n",
       "    <tr>\n",
       "      <th>0</th>\n",
       "      <td>12000.0</td>\n",
       "      <td>2124.0</td>\n",
       "      <td>4200.0</td>\n",
       "      <td>Fighter</td>\n",
       "    </tr>\n",
       "    <tr>\n",
       "      <th>1</th>\n",
       "      <td>30000.0</td>\n",
       "      <td>2500.0</td>\n",
       "      <td>3530.0</td>\n",
       "      <td>Fighter</td>\n",
       "    </tr>\n",
       "    <tr>\n",
       "      <th>2</th>\n",
       "      <td>220000.0</td>\n",
       "      <td>1000.0</td>\n",
       "      <td>14000.0</td>\n",
       "      <td>Bomber</td>\n",
       "    </tr>\n",
       "    <tr>\n",
       "      <th>3</th>\n",
       "      <td>11000.0</td>\n",
       "      <td>2495.0</td>\n",
       "      <td>2900.0</td>\n",
       "      <td>Fighter</td>\n",
       "    </tr>\n",
       "    <tr>\n",
       "      <th>4</th>\n",
       "      <td>14500.0</td>\n",
       "      <td>1800.0</td>\n",
       "      <td>3330.0</td>\n",
       "      <td>Fighter</td>\n",
       "    </tr>\n",
       "  </tbody>\n",
       "</table>\n",
       "</div>"
      ],
      "text/plain": [
       "   Weight (kg)  Speed (km/h)  Operational Range (km)     Type\n",
       "0      12000.0        2124.0                  4200.0  Fighter\n",
       "1      30000.0        2500.0                  3530.0  Fighter\n",
       "2     220000.0        1000.0                 14000.0   Bomber\n",
       "3      11000.0        2495.0                  2900.0  Fighter\n",
       "4      14500.0        1800.0                  3330.0  Fighter"
      ]
     },
     "execution_count": 11,
     "metadata": {},
     "output_type": "execute_result"
    }
   ],
   "source": [
    "aircraft_types.head()"
   ]
  },
  {
   "cell_type": "code",
   "execution_count": 12,
   "id": "209632d5",
   "metadata": {},
   "outputs": [
    {
     "data": {
      "text/html": [
       "<div>\n",
       "<style scoped>\n",
       "    .dataframe tbody tr th:only-of-type {\n",
       "        vertical-align: middle;\n",
       "    }\n",
       "\n",
       "    .dataframe tbody tr th {\n",
       "        vertical-align: top;\n",
       "    }\n",
       "\n",
       "    .dataframe thead th {\n",
       "        text-align: right;\n",
       "    }\n",
       "</style>\n",
       "<table border=\"1\" class=\"dataframe\">\n",
       "  <thead>\n",
       "    <tr style=\"text-align: right;\">\n",
       "      <th></th>\n",
       "      <th>Weight (kg)</th>\n",
       "      <th>Speed (km/h)</th>\n",
       "      <th>Operational Range (km)</th>\n",
       "    </tr>\n",
       "  </thead>\n",
       "  <tbody>\n",
       "    <tr>\n",
       "      <th>count</th>\n",
       "      <td>40.000000</td>\n",
       "      <td>40.000000</td>\n",
       "      <td>40.000000</td>\n",
       "    </tr>\n",
       "    <tr>\n",
       "      <th>mean</th>\n",
       "      <td>25642.500000</td>\n",
       "      <td>1868.975000</td>\n",
       "      <td>3619.000000</td>\n",
       "    </tr>\n",
       "    <tr>\n",
       "      <th>std</th>\n",
       "      <td>45694.985909</td>\n",
       "      <td>653.784152</td>\n",
       "      <td>2509.128769</td>\n",
       "    </tr>\n",
       "    <tr>\n",
       "      <th>min</th>\n",
       "      <td>1000.000000</td>\n",
       "      <td>720.000000</td>\n",
       "      <td>1000.000000</td>\n",
       "    </tr>\n",
       "    <tr>\n",
       "      <th>25%</th>\n",
       "      <td>9500.000000</td>\n",
       "      <td>1077.500000</td>\n",
       "      <td>2175.000000</td>\n",
       "    </tr>\n",
       "    <tr>\n",
       "      <th>50%</th>\n",
       "      <td>13900.000000</td>\n",
       "      <td>2122.000000</td>\n",
       "      <td>3000.000000</td>\n",
       "    </tr>\n",
       "    <tr>\n",
       "      <th>75%</th>\n",
       "      <td>19250.000000</td>\n",
       "      <td>2414.000000</td>\n",
       "      <td>4050.000000</td>\n",
       "    </tr>\n",
       "    <tr>\n",
       "      <th>max</th>\n",
       "      <td>220000.000000</td>\n",
       "      <td>2655.000000</td>\n",
       "      <td>14000.000000</td>\n",
       "    </tr>\n",
       "  </tbody>\n",
       "</table>\n",
       "</div>"
      ],
      "text/plain": [
       "         Weight (kg)  Speed (km/h)  Operational Range (km)\n",
       "count      40.000000     40.000000               40.000000\n",
       "mean    25642.500000   1868.975000             3619.000000\n",
       "std     45694.985909    653.784152             2509.128769\n",
       "min      1000.000000    720.000000             1000.000000\n",
       "25%      9500.000000   1077.500000             2175.000000\n",
       "50%     13900.000000   2122.000000             3000.000000\n",
       "75%     19250.000000   2414.000000             4050.000000\n",
       "max    220000.000000   2655.000000            14000.000000"
      ]
     },
     "execution_count": 12,
     "metadata": {},
     "output_type": "execute_result"
    }
   ],
   "source": [
    "aircraft_types.describe()"
   ]
  },
  {
   "cell_type": "markdown",
   "id": "195111ee",
   "metadata": {},
   "source": [
    "#### Plotting a Heatmap \n"
   ]
  },
  {
   "cell_type": "code",
   "execution_count": 13,
   "id": "ec8806f6",
   "metadata": {},
   "outputs": [
    {
     "data": {
      "image/png": "[encoded data removed]",
      "text/plain": [
       "<Figure size 1000x800 with 2 Axes>"
      ]
     },
     "metadata": {},
     "output_type": "display_data"
    }
   ],
   "source": [
    "aircraft_types_temp = aircraft_types.select_dtypes(include=['float64', 'int64'])\n",
    "correlation_matrix = aircraft_types_temp.corr()\n",
    "plt.figure(figsize=(10, 8))\n",
    "sns.heatmap(correlation_matrix, annot=True, fmt=\".2f\", cmap='crest', square=True, cbar=True)\n",
    "plt.title('Correlation Matrix of Aircraft Types')\n",
    "plt.show()"
   ]
  },
  {
   "cell_type": "markdown",
   "id": "c61b0cd5",
   "metadata": {},
   "source": [
    "#### Distribution of aircraft types\n"
   ]
  },
  {
   "cell_type": "code",
   "execution_count": 14,
   "id": "49cb4143",
   "metadata": {},
   "outputs": [
    {
     "data": {
      "image/png": "[encoded data removed]",
      "text/plain": [
       "<Figure size 1200x600 with 1 Axes>"
      ]
     },
     "metadata": {},
     "output_type": "display_data"
    }
   ],
   "source": [
    "aircraft_types_type = aircraft_types.select_dtypes(include=['object'])\n",
    "plt.figure(figsize=(12, 6))\n",
    "sns.countplot(data=aircraft_types_type, x='Type', order=aircraft_types_type['Type'].value_counts().index)\n",
    "plt.title('Distribution of Aircraft Types')\n",
    "plt.xlabel('Aircraft Type')\n",
    "plt.ylabel('Count')\n",
    "plt.tight_layout()\n",
    "plt.show()"
   ]
  },
  {
   "cell_type": "markdown",
   "id": "bea29565",
   "metadata": {},
   "source": [
    "#### Preparing the features and the target"
   ]
  },
  {
   "cell_type": "code",
   "execution_count": 15,
   "id": "647fd5df",
   "metadata": {},
   "outputs": [],
   "source": [
    "features = ['Speed (km/h)', 'Weight (kg)', 'Operational Range (km)']\n",
    "X = aircraft_types[features]\n",
    "y = aircraft_types['Type']\n"
   ]
  },
  {
   "cell_type": "markdown",
   "id": "53b0cd0c",
   "metadata": {},
   "source": [
    "#### Train test split"
   ]
  },
  {
   "cell_type": "code",
   "execution_count": 16,
   "id": "146d4850",
   "metadata": {},
   "outputs": [],
   "source": [
    "from sklearn.model_selection import train_test_split\n",
    "X_train, X_test, y_train, y_test = train_test_split(X, y, random_state=1)"
   ]
  },
  {
   "cell_type": "markdown",
   "id": "a2ee673f",
   "metadata": {},
   "source": [
    "#### Using the RandomForest Classifier"
   ]
  },
  {
   "cell_type": "code",
   "execution_count": 17,
   "id": "38e143d8",
   "metadata": {},
   "outputs": [],
   "source": [
    "from sklearn.ensemble import RandomForestClassifier\n",
    "model = RandomForestClassifier(max_depth=5, random_state=1, class_weight='balanced_subsample')\n",
    "model.fit(X_train, y_train)\n",
    "predictions = model.predict(X_test)\n"
   ]
  },
  {
   "cell_type": "markdown",
   "id": "66b425da",
   "metadata": {},
   "source": [
    "#### Metrics "
   ]
  },
  {
   "cell_type": "code",
   "execution_count": 18,
   "id": "c37ed1da",
   "metadata": {},
   "outputs": [
    {
     "name": "stdout",
     "output_type": "stream",
     "text": [
      "                precision    recall  f1-score   support\n",
      "\n",
      "        Bomber       0.67      1.00      0.80         2\n",
      "       Fighter       0.83      1.00      0.91         5\n",
      "Reconnaissance       0.00      0.00      0.00         2\n",
      "       Trainer       1.00      1.00      1.00         1\n",
      "\n",
      "      accuracy                           0.80        10\n",
      "     macro avg       0.62      0.75      0.68        10\n",
      "  weighted avg       0.65      0.80      0.71        10\n",
      "\n"
     ]
    },
    {
     "name": "stderr",
     "output_type": "stream",
     "text": [
      "/home/usayanjit/Projects/Python/ML/jets/.venv/lib64/python3.13/site-packages/sklearn/metrics/_classification.py:1565: UndefinedMetricWarning: Precision is ill-defined and being set to 0.0 in labels with no predicted samples. Use `zero_division` parameter to control this behavior.\n",
      "  _warn_prf(average, modifier, f\"{metric.capitalize()} is\", len(result))\n",
      "/home/usayanjit/Projects/Python/ML/jets/.venv/lib64/python3.13/site-packages/sklearn/metrics/_classification.py:1565: UndefinedMetricWarning: Precision is ill-defined and being set to 0.0 in labels with no predicted samples. Use `zero_division` parameter to control this behavior.\n",
      "  _warn_prf(average, modifier, f\"{metric.capitalize()} is\", len(result))\n",
      "/home/usayanjit/Projects/Python/ML/jets/.venv/lib64/python3.13/site-packages/sklearn/metrics/_classification.py:1565: UndefinedMetricWarning: Precision is ill-defined and being set to 0.0 in labels with no predicted samples. Use `zero_division` parameter to control this behavior.\n",
      "  _warn_prf(average, modifier, f\"{metric.capitalize()} is\", len(result))\n"
     ]
    }
   ],
   "source": [
    "from sklearn.metrics import classification_report\n",
    "print(classification_report(y_test, predictions))"
   ]
  },
  {
   "cell_type": "markdown",
   "id": "c3d5c37e",
   "metadata": {},
   "source": [
    "#### Saving the model"
   ]
  },
  {
   "cell_type": "code",
   "execution_count": 19,
   "id": "18c31f4b",
   "metadata": {},
   "outputs": [
    {
     "data": {
      "text/plain": [
       "['aircraft_classifier.pkl']"
      ]
     },
     "execution_count": 19,
     "metadata": {},
     "output_type": "execute_result"
    }
   ],
   "source": [
    "import joblib\n",
    "joblib.dump(model, 'aircraft_classifier.pkl')"
   ]
  }
 ],
 "metadata": {
  "kernelspec": {
   "display_name": ".venv",
   "language": "python",
   "name": "python3"
  },
  "language_info": {
   "codemirror_mode": {
    "name": "ipython",
    "version": 3
   },
   "file_extension": ".py",
   "mimetype": "text/x-python",
   "name": "python",
   "nbconvert_exporter": "python",
   "pygments_lexer": "ipython3",
   "version": "3.13.3"
  }
 },
 "nbformat": 4,
 "nbformat_minor": 5
}
